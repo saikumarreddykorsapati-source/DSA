{
  "nbformat": 4,
  "nbformat_minor": 0,
  "metadata": {
    "colab": {
      "name": "6)DSA_Assignment_6.ipynb",
      "provenance": [],
      "collapsed_sections": [],
      "include_colab_link": true
    },
    "kernelspec": {
      "name": "python3",
      "display_name": "Python 3"
    },
    "language_info": {
      "name": "python"
    }
  },
  "cells": [
    {
      "cell_type": "markdown",
      "metadata": {
        "id": "view-in-github",
        "colab_type": "text"
      },
      "source": [
        "<a href=\"https://colab.research.google.com/github/saikumarreddykorsapati-source/DSA_Assignments/blob/main/6)DSA_Assignment_6.ipynb\" target=\"_parent\"><img src=\"https://colab.research.google.com/assets/colab-badge.svg\" alt=\"Open In Colab\"/></a>"
      ]
    },
    {
      "cell_type": "markdown",
      "source": [
        "**1) Sol:**\n",
        "\n",
        "The basic Python data structures in Python include list, set, tuples, and dictionary.\n",
        "\n",
        "**1. List**\n",
        "\n",
        "A list is a data structure that holds an ordered collection of items i.e. you can store a sequence of items in a list.\n",
        "\n",
        "Python list is mutable which means it can be modified after its creation. \n",
        "\n",
        "The items of lists are enclosed within the square bracket [] and separated by the comma.\n",
        "\n",
        "\n",
        "**2. Tuple**\n",
        "\n",
        "Python Tuple is used to store the sequence of immutable Python objects. \n",
        "\n",
        "The tuple is similar to lists but it is different in the way that the value of the items stored in the list can be changed, whereas the tuple is immutable i.e. the value of the items stored in the tuple cannot be changed.\n",
        "\n",
        "**3. Dictionary**\n",
        "\n",
        "A dictionary is an unordered collection of data values used to store data values like a map. \n",
        "\n",
        "Unlike other data types that hold only a single value as an element, Dictionary holds a key value pair.\n",
        "\n",
        "**4. Sets**\n",
        "\n",
        "A set is a collection that is unordered and unindexed. \n",
        "\n",
        "Sets are written with curly brackets in Python. \n",
        "\n",
        "Sets do not contain repetitive elements i.e. duplication of elements is removed from the sets."
      ],
      "metadata": {
        "id": "ABxbJN08-mLk"
      }
    },
    {
      "cell_type": "markdown",
      "source": [
        "\n",
        "\n",
        "---\n",
        "\n"
      ],
      "metadata": {
        "id": "NZkZYXYfisf_"
      }
    },
    {
      "cell_type": "markdown",
      "source": [
        "**2) Sol:**\n",
        "\n",
        "Python supports many user-defined data structures i.e. the user can create their own data structures, like Stack, Queue, Tree, Linked List, Graph, and Hash Map.\n",
        "\n",
        "**Stack**\n",
        "\n",
        "Stacks are linear Data Structures which are based on the principle of Last-In-First-Out (LIFO) where data which is entered last will be the first to get accessed.\n",
        "\n",
        "**Queue**\n",
        "\n",
        "A queue is also a linear data structure which is based on the principle of First-In-First-Out (FIFO) where the data entered first will be accessed first.\n",
        "\n",
        "**Linked List**\n",
        "\n",
        "Linked lists are linear Data Structures which are not stored consequently but are linked with each other using pointers. The node of a linked list is composed of data and a pointer called next.\n",
        "\n",
        "**Tree**\n",
        "\n",
        "A tree is a non-linear data structure consisting of roots and nodes. The topmost base node is the root, and the elements present at the end of the tree are leaves. \n",
        "\n",
        "**Graph**\n",
        "\n",
        "A graph is a non-linear data structure consisting of nodes and edges. Nodes are known as vertices, and the lines connecting two nodes are generally called nodes.\n",
        "\n",
        "**HashMap**\n",
        "\n",
        "Hash Maps are indexed data structures and perform the same function as that performed by dictionary in Python. A hash map uses a hash function to compute index-key values into arrays. "
      ],
      "metadata": {
        "id": "mC3crI9LAkRA"
      }
    },
    {
      "cell_type": "markdown",
      "source": [
        "\n",
        "\n",
        "---\n",
        "\n"
      ],
      "metadata": {
        "id": "bPZVaCivitpc"
      }
    },
    {
      "cell_type": "markdown",
      "source": [
        "**3) Sol:**\n",
        "\n",
        "**Algorithm**\n",
        "\n",
        "Algorithm is a step-by-step set of instructions designed to perform a specific task.\n",
        "\n",
        "**Steps involved are:**\n",
        "\n",
        "1. Obtain detailed information on the problem.\n",
        "2. Analyze the problem.\n",
        "3. Think of a problem solving approach.\n",
        "4. Review the problem solving approach and try to think of a better Alternative.\n",
        "5. Develop a basic structure of the Algorithm.\n",
        "6. Optimize, Improvise and refine.\n",
        "7. Review the algorithm."
      ],
      "metadata": {
        "id": "x8VvsuoZCqD4"
      }
    },
    {
      "cell_type": "markdown",
      "source": [
        "\n",
        "\n",
        "---\n",
        "\n"
      ],
      "metadata": {
        "id": "l_PHTGZMit05"
      }
    },
    {
      "cell_type": "markdown",
      "source": [
        "**4) Sol:**\n",
        "\n",
        "**The key components / characteristics of a good Algorithm are :**\n",
        "\n",
        "1. Input - An algorithm should have 0 or more well defined inputs.\n",
        "2. Output - An algorithm should have 1 or more well defined outputs, and should match the desired output.\n",
        "3. Finiteness - Algorithms must terminate after a finite number of steps.\n",
        "4. Definiteness - Each step of algorithm must be defined unambiguously.\n",
        "5. Well-Ordered - The exact order of operations performed in an algorithm should be concretely defined.\n",
        "6. Independent - An algorithm should have step-by-step directions, which should be independent of any programming code.\n"
      ],
      "metadata": {
        "id": "SMmX3QxzDVAS"
      }
    },
    {
      "cell_type": "markdown",
      "source": [
        "\n",
        "\n",
        "---\n",
        "\n"
      ],
      "metadata": {
        "id": "bLFSnkSniuEd"
      }
    },
    {
      "cell_type": "markdown",
      "source": [
        "**5) Sol:**\n",
        "\n",
        " Tree traversal involves traversing each node of the tree at least once where the information in the form of key and value can be retrieved for easy identification. \n",
        "\n",
        "The following are the three different ways of traversal:\n",
        "\n",
        "**Inorder traversal**\n",
        "\n",
        "An inorder traversal is a traversal technique that follows the policy, i.e., Left Root Right. \n",
        "\n",
        "Here, the left subtree of the root node is traversed first, then the root node, and then the right subtree of the root node is traversed.\n",
        "\n",
        "**Preorder traversal**\n",
        "\n",
        "A preorder traversal is a traversal technique that follows the policy, i.e., Root Left Right.\n",
        "\n",
        "In this method it is the root node which is visited first and then the left sub-tree is traversed and finally at the end the right sub-tree.\n",
        "\n",
        "**Postorder traversal**\n",
        "\n",
        "A Postorder traversal is a traversal technique that follows the policy, i.e., Left Right Root.\n",
        "\n",
        "In this method it is the left side is visited first and then the right-side sub-tree is traversed and finally at the node."
      ],
      "metadata": {
        "id": "TkxJlQzyFhJj"
      }
    },
    {
      "cell_type": "markdown",
      "source": [
        "\n",
        "\n",
        "---\n",
        "\n"
      ],
      "metadata": {
        "id": "dZtGQXmGiuSp"
      }
    },
    {
      "cell_type": "markdown",
      "source": [
        "**6) Sol:**\n",
        "\n",
        "**INORDER TRAVERSAL:**\n",
        "\n",
        "An inorder traversal is a traversal technique that follows the policy, i.e., Left -> Root -> Right.\n",
        "\n",
        "Here, the left subtree of the root node is traversed first, then the root node, and then the right subtree of the root node is traversed.\n",
        "\n",
        "\n",
        "**POSTORDER TRAVERSAL:**\n",
        "\n",
        "A Postorder traversal is a traversal technique that follows the policy, i.e., Left -> Right -> Root.\n",
        "\n",
        "Here, the left subtree of the root node is traversed first, then the right-side sub-tree, and then finally the node is traversed."
      ],
      "metadata": {
        "id": "oE_s13r2HK1y"
      }
    }
  ]
}