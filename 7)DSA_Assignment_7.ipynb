{
  "nbformat": 4,
  "nbformat_minor": 0,
  "metadata": {
    "colab": {
      "name": "7)DSA_Assignment_7.ipynb",
      "provenance": [],
      "collapsed_sections": [],
      "include_colab_link": true
    },
    "kernelspec": {
      "name": "python3",
      "display_name": "Python 3"
    },
    "language_info": {
      "name": "python"
    }
  },
  "cells": [
    {
      "cell_type": "markdown",
      "metadata": {
        "id": "view-in-github",
        "colab_type": "text"
      },
      "source": [
        "<a href=\"https://colab.research.google.com/github/saikumarreddykorsapati-source/DSA_Assignments/blob/main/7)DSA_Assignment_7.ipynb\" target=\"_parent\"><img src=\"https://colab.research.google.com/assets/colab-badge.svg\" alt=\"Open In Colab\"/></a>"
      ]
    },
    {
      "cell_type": "markdown",
      "source": [
        "**1) Sol:**\n",
        "\n",
        "**Applications of trees -**\n",
        "\n",
        "1. Binary Search Tree is a tree that allows fast search, insert, delete on a sorted data. It also allows finding closest item\n",
        "2. Heap is a tree data structure which is implemented using arrays and used to implement priority queues.\n",
        "3. Trie is a special kind of tree that is used to store the dictionary. It is a fast and efficient way for dynamic spell checking.\n",
        "4. Trees are used to store the data in the hierarchical structure.\n"
      ],
      "metadata": {
        "id": "6-0LTSBddbQH"
      }
    },
    {
      "cell_type": "markdown",
      "source": [
        "\n",
        "\n",
        "---\n",
        "\n"
      ],
      "metadata": {
        "id": "NZkZYXYfisf_"
      }
    },
    {
      "cell_type": "markdown",
      "source": [
        "**2) Sol:**\n",
        "\n",
        "**Preorder traversal**\n",
        "\n",
        "A preorder traversal is a traversal technique that follows the policy, i.e., Root Left Right.\n",
        "\n",
        "In this method it is the root node which is visited first and then the left sub-tree is traversed and finally at the end the right sub-tree.\n",
        "\n",
        "The algorithm for preorder traversal is -\n",
        "\n",
        "**Algorithm Preorder(tree)**\n",
        "   1. Visit the root.\n",
        "   2. Traverse the left subtree, i.e., call Preorder(left-subtree)\n",
        "   3. Traverse the right subtree, i.e., call Preorder(right-subtree) "
      ],
      "metadata": {
        "id": "5SFQJ3CQUH6S"
      }
    },
    {
      "cell_type": "markdown",
      "source": [
        "\n",
        "\n",
        "---\n",
        "\n"
      ],
      "metadata": {
        "id": "bPZVaCivitpc"
      }
    },
    {
      "cell_type": "markdown",
      "source": [
        "**3) Sol:**\n",
        "\n",
        "**TOWER OF HANOI -**\n",
        "\n",
        "Tower of Hanoi is a mathematical problem (puzzle) that consists of 3 poles and ‘n’ number of discs, each disc having different diameters.\n",
        "\n",
        "The objective of this problem is to transfer all the ‘n’ discs from source pole to the destination pole in such a way that we get the same arrangement of discs as before. But this goal must be achieved by sticking to the rules, which are -\n",
        "\n",
        "1. Only one disc can be moved at a time.\n",
        "2. Only the top-most disc can be removed\n",
        "3. The larger disc cannot be placed on top of the smaller disc. \n",
        "\n"
      ],
      "metadata": {
        "id": "sBv6pa_DXWMH"
      }
    },
    {
      "cell_type": "markdown",
      "source": [
        "\n",
        "\n",
        "---\n",
        "\n"
      ],
      "metadata": {
        "id": "l_PHTGZMit05"
      }
    },
    {
      "cell_type": "markdown",
      "source": [
        "**4) Sol:**\n",
        "\n",
        "**LINEAR DATA STRUCTURES -**\n",
        "1. In a linear data structure, data elements are arranged in a linear order where each and every elements are attached to its previous and next adjacent.\n",
        "2. The linear data structures are comparatively easier to implement.\n",
        "3. The time complexity of linear data structure increases with the increase in the input size.\n",
        "4. Arrays, linked list, stack, queue are the types of a linear data structure.\n",
        "\n",
        "**NON LINEAR DATA STRUCTURE -**\n",
        "1. In this structure, the elements are arranged hierarchically or non-linear manner.\n",
        "2. \tThe non-linear data structures are comparatively difficult to implement and understand as compared to the linear data structures.\n",
        "3. \tThe time complexity of non-linear data structure often remains same with the increase in the input size.\n",
        "4. Trees and graphs are the types of a non-linear data structure."
      ],
      "metadata": {
        "id": "0O0YuYb1YBma"
      }
    },
    {
      "cell_type": "markdown",
      "source": [
        "\n",
        "\n",
        "---\n",
        "\n"
      ],
      "metadata": {
        "id": "bLFSnkSniuEd"
      }
    },
    {
      "cell_type": "markdown",
      "source": [
        "**5) Sol:**\n",
        "\n",
        "**DIFFERENCE BETWEEN LIST AND ARRAY :**\n",
        "\n",
        "1. List is an in-build data structure of python language hence no module is to be imported before using it. But array is not an in-build data structure, so, we need to import the “array” module before creating and using arrays.\n",
        "2. Array stores homogeneous data values, and the list can store heterogeneous data values.\n",
        "3. A python list is faster than a python array as python array are based on a python list itself.\n",
        "4. The list cannot handle the direct arithmetic operations whereas Arrays can directly handle arithmetic operations.\n"
      ],
      "metadata": {
        "id": "9cOHNyssZlbW"
      }
    }
  ]
}