{
  "nbformat": 4,
  "nbformat_minor": 0,
  "metadata": {
    "colab": {
      "name": "3)DSA_Assignment_3.ipynb",
      "provenance": [],
      "collapsed_sections": [],
      "include_colab_link": true
    },
    "kernelspec": {
      "name": "python3",
      "display_name": "Python 3"
    },
    "language_info": {
      "name": "python"
    }
  },
  "cells": [
    {
      "cell_type": "markdown",
      "metadata": {
        "id": "view-in-github",
        "colab_type": "text"
      },
      "source": [
        "<a href=\"https://colab.research.google.com/github/saikumarreddykorsapati-source/DSA_Assignments/blob/main/3)DSA_Assignment_3.ipynb\" target=\"_parent\"><img src=\"https://colab.research.google.com/assets/colab-badge.svg\" alt=\"Open In Colab\"/></a>"
      ]
    },
    {
      "cell_type": "markdown",
      "source": [
        "**1) Sol:**\n",
        "\n",
        "**Different Sorting Algorithms are -**\n",
        "\n",
        "**i. Bubble Sort -**\n",
        "\n",
        "If a given array of elements has to be sorted in ascending order, bubble sorting will start by comparing the first element of the array with the second element and immediately swap them if it turns out to be greater than the second element, and then move on to compare the second and third element, and so on.\n",
        "\n",
        "\n",
        "**ii. Quick Sort -**\n",
        "\n",
        "Quick Sort  is a divide and conquer algorithm. The intuitive idea behind quick sort is it picks an element as the pivot from a given array of elements and then partitions the array around the pivot element. Subsequently, it calls itself recursively and partitions the two subarrays thereafter. \n",
        "\n",
        "**iii. Insertion Sort -**\n",
        "\n",
        "Insertion sort is a comparison-based algorithm that builds a final sorted array one element at a time. It iterates through an input array and removes one element per iteration, finds the place the element belongs in the array, and then places it there.\n",
        "\n",
        "**iv. Merge sort -**\n",
        "\n",
        "Merge sort  is a divide-and-conquer algorithm. In each iteration, merge sort divides the input array into two equal subarrays, calls itself recursively for the two subarrays, and finally merges the two sorted halves. \n",
        "\n",
        "**v. Selection sort -**\n",
        "\n",
        "Selection sort is a sorting algorithm in which the given array is divided into two subarrays, the sorted left section, and the unsorted right section.\n",
        "Initially, the sorted portion is empty and the unsorted part is the entire list. In each iteration, we fetch the minimum element from the unsorted list and push it to the end of the sorted list thus building our sorted array.\n",
        "\n",
        "**vi. Bucket Sort -**\n",
        "\n",
        "Bucket Sort is a comparison-based sorting technique that operates on array elements by dividing them into multiple buckets recursively and then sorting these buckets individually using a separate sorting algorithm altogether. Finally, the sorted buckets are re-combined to produce the sorted array."
      ],
      "metadata": {
        "id": "Kd889mHhLuCU"
      }
    },
    {
      "cell_type": "markdown",
      "source": [
        "\n",
        "---\n"
      ],
      "metadata": {
        "id": "NZkZYXYfisf_"
      }
    },
    {
      "cell_type": "markdown",
      "source": [
        "**2) Sol:**\n",
        "\n",
        "**Stack Advantages**\n",
        "\n",
        "1. Stack is easy to learn and implement for beginners.\n",
        "2. Stacks are used to solving problems that work on recursion.\n",
        "3. In array we can't allocate memory dynamically so to remove this drawback we use stack .\n",
        "4. It allows you to control how memory is allocated and deallocated.\n",
        "5. Stack does not get corrupted easily; hence it is more secure and reliable."
      ],
      "metadata": {
        "id": "eYqfFjCYNyZn"
      }
    },
    {
      "cell_type": "markdown",
      "source": [
        "\n",
        "\n",
        "---\n",
        "\n"
      ],
      "metadata": {
        "id": "bPZVaCivitpc"
      }
    },
    {
      "cell_type": "markdown",
      "source": [
        "**3) Sol:**\n",
        "\n",
        "**QUEUES :**\n",
        "\n",
        "1. Queues are based on the FIFO principle, i.e., the element inserted at the first, is the first element to come out of the list.\n",
        "\n",
        "2. \tInsert operation is called enqueue operation and Delete operation is called dequeue operation.\n",
        "\n",
        "3. Queues full condition is When Rear == MAXSIZE - 1\n",
        "\n",
        "4. Queues empty condition is When Front == -1 || Front == Rear + 1\n",
        "\n",
        "5. The insertion operation occurs at REAR end and the deletion operation occurs at FRONT end.\n",
        "\n",
        "6. A Queue offers services in operations research, transportation and computer science that involves persons, data, events and objects to be stored for later processing.\n",
        "\n",
        "**STACK :**\n",
        "\n",
        "1. Stacks are based on the LIFO principle, i.e., the element inserted at the last, is the first element to come out of the list.\n",
        "\n",
        "2. Insert operation is called push operation and Delete operation is called pop operation.\n",
        "\n",
        "3. Stacks full condition is When Top == MAXSIZE - 1\n",
        "\n",
        "4. Stacks empty condition is When Top == -1\n",
        "\n",
        "5. The insertion and deletion operations occur at the TOP end of a Stack.\n",
        "\n",
        "6. Used in infix to postfix conversion, scheduling algorithms, depth first search and evaluation of an expression."
      ],
      "metadata": {
        "id": "ILYrvySjPem7"
      }
    },
    {
      "cell_type": "markdown",
      "source": [
        "\n",
        "\n",
        "---\n",
        "\n"
      ],
      "metadata": {
        "id": "l_PHTGZMit05"
      }
    },
    {
      "cell_type": "markdown",
      "source": [
        "**4) Sol:**\n",
        "\n",
        "There are four different types of queues:\n",
        "\n",
        "**1. Simple Queue**\n",
        "\n",
        "In a simple queue, insertion takes place at the rear and removal occurs at the \n",
        "front. It strictly follows the FIFO (First in First out) rule.\n",
        "\n",
        "**2. Circular Queue**\n",
        "\n",
        "In a circular queue, the last element points to the first element making a circular link. If the last position is full and the first position is empty, we can insert an element in the first position. This action is not possible in a simple queue.\n",
        "\n",
        "**3. Priority Queue**\n",
        "\n",
        "Priority queue makes data retrieval possible only through a pre determined priority number assigned to the data items. Insertion in priority queue takes place based on the arrival, while deletion in the priority queue occurs based on the priority.\n",
        "\n",
        "**4. Deque (Double Ended Queue)**\n",
        "\n",
        "In a double ended queue, insertion and removal of elements can be performed from either from the front or rear. Thus, it does not follow the FIFO (First In First Out) rule. Deque can be used both as stack and queue as it allows the insertion and deletion operations on both ends."
      ],
      "metadata": {
        "id": "V6wTBxAWdXoa"
      }
    },
    {
      "cell_type": "markdown",
      "source": [
        "\n",
        "\n",
        "---\n",
        "\n"
      ],
      "metadata": {
        "id": "bLFSnkSniuEd"
      }
    },
    {
      "cell_type": "markdown",
      "source": [
        "**5) Sol:**\n",
        "\n",
        "**Advantages of Stack / Queues over Array / List**\n",
        "\n",
        "1. The stack and the Queue are more advanced ways to handle a collection than the array itself, which doesn't establish any order in the way the elements behave inside the collection.\n",
        "\n",
        "2. Also, Stack/Queue are ideal for enforcing sequential rules of access (LIFO & FIFO as you stated) while Array is ideal for allowing random access as desired.\n",
        "\n",
        "3. When you want to remove something from the beginning of an array or a List (ArrayList) it usually takes O(n) time, but for a queue it takes O(1) time. That can make a huge difference if there are many elements."
      ],
      "metadata": {
        "id": "X_HCIuENj3St"
      }
    },
    {
      "cell_type": "markdown",
      "source": [
        "\n",
        "\n",
        "---\n",
        "\n"
      ],
      "metadata": {
        "id": "dZtGQXmGiuSp"
      }
    },
    {
      "cell_type": "markdown",
      "source": [
        "**6) Sol:**\n",
        "\n",
        "1. Recursion is the process in which a function calls itself directly or indirectly and the corresponding function is called as recursive function.\n",
        "\n",
        "2. And Stack is a LIFO data structure i.e. ( Last In First Out) and hence it is used to implement recursion.\n",
        "\n",
        "3. Now, main reason of stack being recursive is because the nature of nested function calling and returning is the same as that of a stack. The one that is called at top level is returned the last. The later a function is called in the nested structure, the earliest it returns. So, the start/ return of a recursive function call turns out similar to push/ pop operations of a stack and thus a stack can be used to mimic this functionality.\n",
        "\n"
      ],
      "metadata": {
        "id": "mlX60Mu4j4En"
      }
    }
  ]
}