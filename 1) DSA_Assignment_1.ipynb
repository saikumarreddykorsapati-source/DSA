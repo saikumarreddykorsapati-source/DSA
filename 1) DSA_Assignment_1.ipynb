{
  "nbformat": 4,
  "nbformat_minor": 0,
  "metadata": {
    "colab": {
      "name": "1) DSA_Assignment_1.ipynb",
      "provenance": [],
      "collapsed_sections": [],
      "include_colab_link": true
    },
    "kernelspec": {
      "name": "python3",
      "display_name": "Python 3"
    },
    "language_info": {
      "name": "python"
    }
  },
  "cells": [
    {
      "cell_type": "markdown",
      "metadata": {
        "id": "view-in-github",
        "colab_type": "text"
      },
      "source": [
        "<a href=\"https://colab.research.google.com/github/saikumarreddykorsapati-source/DSA_Assignments/blob/main/1)_DSA_Assignment_1.ipynb\" target=\"_parent\"><img src=\"https://colab.research.google.com/assets/colab-badge.svg\" alt=\"Open In Colab\"/></a>"
      ]
    },
    {
      "cell_type": "markdown",
      "source": [
        "**1) Sol:**\n",
        "\n",
        "Major Distinctions are:-\n",
        "\n",
        "* List can contain  homogenous/heterogenous elements i.e. elements of same or \n",
        "different data types, but an array contains only homogenous data(similar type of data).\n",
        "\n",
        "* Python list is resizeable as, during list initialization, Python initializes some extra elements whereas Arrays have a constant size that can not be altered.\n",
        "\n",
        "* Since a list store each element individually, it is easier to add and delete an element than an array does. So it is easier to modify a list as compared to arrays in Python.\n",
        "\n",
        "* List cannot handle arithmetic operations directly but we can apply a specific operation to an individual element whereas Arrays can handle arithmetic operations.\n",
        "\n",
        "* Python Lists are preferred for storing a small amount of data whereas arrays are preferred for storing a large amount of data."
      ],
      "metadata": {
        "id": "AQWjg9Fmraqa"
      }
    },
    {
      "cell_type": "markdown",
      "source": [
        "\n",
        "---\n",
        "\n"
      ],
      "metadata": {
        "id": "Efzt74n_uiNA"
      }
    },
    {
      "cell_type": "markdown",
      "source": [
        "**2) Sol:**\n",
        "\n",
        "* Binary tree is a type of heirarchial data structure.\n",
        "* Each node can have atmost two children.\n",
        "* For each node, the values of its left descendent nodes are less than that of the current node, which in turn is less than the right descendent nodes.\n",
        "* In Binary tree where every node has 0 or 2 children, the number of leaf nodes is always one more than nodes with two children.\n",
        "\n",
        "  No. of Leaf Nodes = No. of Internal Nodes + 1\n",
        "\n",
        "  That is ->  `L = T + 1`\n",
        "      \n",
        "* In Binary Trees, nodes are linked using pointers.\n",
        "* The node which is present at the topmost level of the tree is known as root node, which has either 0 or 2 children. Root node has no parent.\n",
        "* Maximum number of nodes in a binary tree of height ‘h’ is \n",
        "`2h – 1.`"
      ],
      "metadata": {
        "id": "yYVFscQjuki3"
      }
    },
    {
      "cell_type": "markdown",
      "source": [
        "\n",
        "\n",
        "---\n",
        "\n"
      ],
      "metadata": {
        "id": "DLIzR0uR0FkO"
      }
    },
    {
      "cell_type": "markdown",
      "source": [
        "**3) Sol:**\n",
        "\n",
        "The best and simple way to combine 2 balanced search trees is as follows :\n",
        "\n",
        "*** i) will perform inorder traversal on both BST's individually to get two individual sorted arrays A1 and A2.**\n",
        "\n",
        "Algorithm Inorder:\n",
        "   * Traverse the left subtree, i.e., call Inorder(left-subtree)\n",
        "\n",
        "   * Visit the root.\n",
        "   \n",
        "   * Traverse the right subtree, i.e., call Inorder(right-subtree)\n",
        "\n",
        "*** ii) we will perform merge sort algorithm to merge A1 and A2 and get a sorted array A3.**\n",
        "\n",
        "Algorithm -\n",
        "  * Declare new array A3\n",
        "\n",
        "  * Repeat step 3 and 4 till end of A1 or end of A2\n",
        "\n",
        "  * if the instance value of A1 less than the value of A2 then insert the value of A1, move the pointer to the next element in A1\n",
        "\n",
        "  * Else insert the value of A2 , move the pointer to the next element\n",
        "\n",
        "  * Insert all remaining values of A1 or A2\n",
        "\n",
        "**Finally, we will convert the array A3 to balanced BST.**\n",
        "\n",
        "Algorithm -\n",
        "  * Get the Middle of the array A3 and make it root.\n",
        "  * Recursively do same for left half and right half.\n",
        "\n",
        "      * Get the middle of left half and make it left child of the root created in step 1.\n",
        "\n",
        "      * Get the middle of right half and make it right child of the root created in step 1."
      ],
      "metadata": {
        "id": "mL3LfAFu0LeX"
      }
    },
    {
      "cell_type": "markdown",
      "source": [
        "\n",
        "---\n",
        "\n"
      ],
      "metadata": {
        "id": "BKgxkK7g0t8J"
      }
    },
    {
      "cell_type": "markdown",
      "source": [
        "**4) Sol:**\n",
        "\n",
        "A heap is tree-based data structure that follows specific property - heap property.\n",
        "\n",
        "Heap Property is based on below two statements -\n",
        "\n",
        "*  i. Any given node is always greater than its child nodes and the key of the root node is the largest among all other nodes. This property is also called **MAX HEAP**. \n",
        "\n",
        "  Mathematically, `A[Parent(i)] >= A[i]`\n",
        "*  ii. Any given node is always smaller than its child nodes and the key of the root node is the smallest among all other nodes. This property is also called **MIN HEAP**.\n",
        "\n",
        "  Mathematically, `A[Parent(i)] <= A[i]`\n",
        "\n",
        "A heap is said to be a complete binary tree structure. In a complete binary tree, all levels are full except the last level, i.e., nodes in all levels except the last level will have two children. The last level will be filled from the left. \n",
        "\n",
        "**Uses :**\n",
        "* Heaps are used to efficiently implement a priority queue, an important data structure in computer science. One of the applications of priority queues is in process scheduling in operating systems.\n",
        "\n",
        "* Heaps are used by the Heapsort Algorithm, which is one of the fastest sorting algorithms known. Its complexity is O(nlogn).\n",
        "\n"
      ],
      "metadata": {
        "id": "GPMWH17d1CQO"
      }
    },
    {
      "cell_type": "markdown",
      "source": [
        "\n",
        "\n",
        "---\n",
        "\n"
      ],
      "metadata": {
        "id": "7aaTIbIU1CQO"
      }
    },
    {
      "cell_type": "markdown",
      "source": [
        "**5) Sol:**\n",
        "\n",
        "In computer science, a Hashmap supports one of the most efficient type of searching which is 'hashing'.\n",
        "\n",
        "A Hashmap also known as hashtable consists of an array in which data is accessed via a special index called a key. \n",
        "\n",
        "The primary aim behind a hash table is to establish a mapping between the set of all possible keys and positions in the array using a hash function.\n",
        "\n",
        "A hash function accepts a key and return its hash coding or hash value. Hash function is the core of implementing a hash map.\n",
        "\n",
        "In Python, hash maps are implemented using dictionaries. \n",
        "\n",
        "Eg :  `d1 = {'name':\"Abcd\",'number':23}`\n",
        "\n",
        "**mostly used in -**\n",
        "\n",
        "* Symbol Tables\n",
        "* databases\n",
        "* phonebook directories\n"
      ],
      "metadata": {
        "id": "8r_c5icM1D8k"
      }
    },
    {
      "cell_type": "markdown",
      "source": [
        "\n",
        "\n",
        "---\n",
        "\n"
      ],
      "metadata": {
        "id": "FKYQrGWl1D8l"
      }
    },
    {
      "cell_type": "markdown",
      "source": [
        "**6) Sol:**\n",
        "\n",
        "**Time Complexity:**\n",
        "\n",
        "* Time complexity is the computational complexity describing the amount of time required for the execution of an algorithm.\n",
        "* Hence, it highly depends on the size of processed data.\n",
        "* It is not going to examine the total execution time of an algorithm.\n",
        "* it is going to give information about the variation (increase or decrease) in execution time when the number of operations increase or decrease in an algorithm.\n",
        "* There are different types of time complexities used. For eg : Constant time – O (1), Linear time – O (n), Logarithmic time – O (log n) etc.\n",
        "\n",
        "**Space Complexity:**\n",
        "\n",
        "* Space complexity represents the amount of memory one program uses in order to achieve its execution.\n",
        "* Space complexity includes both Auxiliary space and space used by input. \n",
        "* Similar to time complexity, there are different types of space complexity, depending on the memory consumed by each algorithm.\n",
        "* An example of an algorithm with a constant space complexity is selection sort since it operates on the same array without any other memory space.\n",
        "* Merge sort is an example of an algorithm with linear space complexity. "
      ],
      "metadata": {
        "id": "dGVhpBtY1EUA"
      }
    },
    {
      "cell_type": "markdown",
      "source": [
        "\n",
        "---\n",
        "\n"
      ],
      "metadata": {
        "id": "zWZrSZIL1EUA"
      }
    },
    {
      "cell_type": "markdown",
      "source": [
        "**7) Sol:** \n",
        "\n",
        "Recursively remove values from the stack until the stack becomes empty and then insert those values back into the stack in a sorted position."
      ],
      "metadata": {
        "id": "2lB9OVHW1GYf"
      }
    },
    {
      "cell_type": "code",
      "source": [
        "from collections import deque"
      ],
      "metadata": {
        "id": "giDKujZHhEJR"
      },
      "execution_count": null,
      "outputs": []
    },
    {
      "cell_type": "code",
      "source": [
        "l = list(map(int,input().split(',')))"
      ],
      "metadata": {
        "colab": {
          "base_uri": "https://localhost:8080/"
        },
        "id": "QPth_vBPjlSS",
        "outputId": "6f0c2e96-d3f5-411b-bb7f-644c1be7e767"
      },
      "execution_count": null,
      "outputs": [
        {
          "name": "stdout",
          "output_type": "stream",
          "text": [
            "2,-9,-15,6,34,10,-4\n"
          ]
        }
      ]
    },
    {
      "cell_type": "code",
      "source": [
        "s1 = deque(l)"
      ],
      "metadata": {
        "id": "mFLVrngNjhpk"
      },
      "execution_count": null,
      "outputs": []
    },
    {
      "cell_type": "code",
      "source": [
        "# We convert deque s1 to list using list()\n",
        "print('Before sorting:', list(s1))"
      ],
      "metadata": {
        "colab": {
          "base_uri": "https://localhost:8080/"
        },
        "id": "gUW4OmEMkRM2",
        "outputId": "dd43945a-a7cc-4b3e-af2d-96b5b4e8afa5"
      },
      "execution_count": null,
      "outputs": [
        {
          "output_type": "stream",
          "name": "stdout",
          "text": [
            "Before sorting: [2, -9, -15, 6, 34, 10, -4]\n"
          ]
        }
      ]
    },
    {
      "cell_type": "code",
      "source": [
        "def appendVal(st, key):\n",
        "    if not st or key > st[-1]:\n",
        "        st.append(key)\n",
        "        return\n",
        "    top = st.pop()\n",
        "    appendVal(st, key)\n",
        "    st.append(top)\n",
        " \n",
        "def getSort(st):\n",
        "    if not st:\n",
        "        return\n",
        "    top = st.pop()\n",
        "    getSort(st)\n",
        "    appendVal(st, top)"
      ],
      "metadata": {
        "id": "PinebyXWg5fT"
      },
      "execution_count": null,
      "outputs": []
    },
    {
      "cell_type": "code",
      "source": [
        "getSort(s1)\n",
        "# We convert deque s1 to list using list()\n",
        "print('After sorting:', list(s1))\n"
      ],
      "metadata": {
        "colab": {
          "base_uri": "https://localhost:8080/"
        },
        "id": "4prOWeAvjrHU",
        "outputId": "c542ffc7-2f42-4bbe-8f9c-6caafdf456d8"
      },
      "execution_count": null,
      "outputs": [
        {
          "output_type": "stream",
          "name": "stdout",
          "text": [
            "After sorting: [-15, -9, -4, 2, 6, 10, 34]\n"
          ]
        }
      ]
    }
  ]
}
