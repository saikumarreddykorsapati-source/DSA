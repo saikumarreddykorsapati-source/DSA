{
  "nbformat": 4,
  "nbformat_minor": 0,
  "metadata": {
    "colab": {
      "name": "5)DSA_Assignment_5.ipynb",
      "provenance": [],
      "collapsed_sections": [],
      "include_colab_link": true
    },
    "kernelspec": {
      "name": "python3",
      "display_name": "Python 3"
    },
    "language_info": {
      "name": "python"
    }
  },
  "cells": [
    {
      "cell_type": "markdown",
      "metadata": {
        "id": "view-in-github",
        "colab_type": "text"
      },
      "source": [
        "<a href=\"https://colab.research.google.com/github/saikumarreddykorsapati-source/DSA_Assignments/blob/main/5)DSA_Assignment_5.ipynb\" target=\"_parent\"><img src=\"https://colab.research.google.com/assets/colab-badge.svg\" alt=\"Open In Colab\"/></a>"
      ]
    },
    {
      "cell_type": "markdown",
      "source": [
        "**1) Sol:**\n",
        "\n",
        "Divide and Conquer is a recursive problem-solving approach which break a  problem into smaller subproblems, recursively solve the subproblems, and finally combines the solutions to the subproblems to solve the original problem.\n",
        "\n",
        "It involves following 3 steps -\n",
        "\n",
        "* Divide: This involves dividing the problem into smaller sub-problems.\n",
        "* Conquer: Solve sub-problems recursively.\n",
        "* Combine: Combine the sub-problems to get the final solution to the given original problem."
      ],
      "metadata": {
        "id": "I7ZrwnJ1UQZR"
      }
    },
    {
      "cell_type": "markdown",
      "source": [
        "\n",
        "\n",
        "---\n",
        "\n"
      ],
      "metadata": {
        "id": "NZkZYXYfisf_"
      }
    },
    {
      "cell_type": "markdown",
      "source": [
        "**2) Sol:**\n",
        "\n",
        "**Binary search -**\n",
        "\n",
        "Binary search follows the divide and conquer approach which works as follows :\n",
        "\n",
        "Firstly, the list is divided into two halves, and the item is compared with the middle element of the list. \n",
        "\n",
        "If the match is found then, the location of the middle element is returned. \n",
        "\n",
        "Else if item is greater than the mid element, then the item can only lie in the right (greater) half subarray after the mid element. Then we apply the algorithm again for the right half.\n",
        "\n",
        "Else if item is smaller, the target item must lie in the left (lower) half. So we apply the algorithm for the left half.\n",
        "\n",
        "\n"
      ],
      "metadata": {
        "id": "a3rsFV8fz-wX"
      }
    },
    {
      "cell_type": "markdown",
      "source": [
        "\n",
        "\n",
        "---\n",
        "\n"
      ],
      "metadata": {
        "id": "bPZVaCivitpc"
      }
    },
    {
      "cell_type": "markdown",
      "source": [
        "**3) Sol:**\n",
        "\n",
        "LIST :\n",
        "\n",
        "1. Lists are mutable i.e. list can be changed or modified after its creation according to needs.\n",
        "2. Lists are surrounded by square brackets []\n",
        "3. Lists has variable length\n",
        "4. \tLists have many built-in methods like len(), append(), insert(), sort() etc.\n",
        "5. Lists can be used to store homogeneous and heterogeneous elements.\n",
        "\n",
        "TUPLES :\n",
        "\n",
        "1.  Tuple is immutable i.e. tuple can’t be changed or modified after its creation.\n",
        "2. Tuples are surrounded by parenthesis ()\n",
        "3. Tuple has fixed length.\n",
        "4. Tuples does not have many built-in methods.\n",
        "5. Tuples are used to store only heterogeneous elements."
      ],
      "metadata": {
        "id": "xNYfDWGR15F2"
      }
    },
    {
      "cell_type": "markdown",
      "source": [
        "\n",
        "\n",
        "---\n",
        "\n"
      ],
      "metadata": {
        "id": "l_PHTGZMit05"
      }
    },
    {
      "cell_type": "markdown",
      "source": [
        "**4) Sol:**\n",
        "\n",
        "**Memory is managed in Python in the following ways:**\n",
        "\n",
        "Memory management in python is managed by **Python private heap space**. All Python objects and data structures are located in a private heap. The programmer does not have access to this private heap. The python interpreter takes care of this instead.\n",
        "\n",
        "The allocation of heap space for Python objects is done by **Python’s memory manager**. \n",
        "\n",
        "Python also has an inbuilt **garbage collector**, which recycles all the unused memory and so that it can be made available to the heap space."
      ],
      "metadata": {
        "id": "GV-Vzojh3vV6"
      }
    },
    {
      "cell_type": "markdown",
      "source": [
        "\n",
        "\n",
        "---\n",
        "\n"
      ],
      "metadata": {
        "id": "bLFSnkSniuEd"
      }
    },
    {
      "cell_type": "markdown",
      "source": [
        "**5) Sol:**\n",
        "\n",
        "**PICKLING -**\n",
        "\n",
        "Pickle module accepts any Python object and converts it into a string representation and dumps it into a file by using dump function ( pickle.dump() function ), this process is called pickling. \n",
        "\n",
        "**UNPICKLING -**\n",
        "\n",
        "While the process of retrieving original Python objects from the stored string representation is called unpickling."
      ],
      "metadata": {
        "id": "J6YnCSMb4M3x"
      }
    },
    {
      "cell_type": "markdown",
      "source": [
        "\n",
        "\n",
        "---\n",
        "\n"
      ],
      "metadata": {
        "id": "dZtGQXmGiuSp"
      }
    },
    {
      "cell_type": "markdown",
      "source": [
        "**6) Sol:**\n",
        "\n",
        "There are mainly two searching algorithms widely considered in programming -\n",
        "\n",
        "1. Linear Search\n",
        "2. Binary Search\n",
        "\n",
        "**LINEAR SEARCH :**\n",
        "\n",
        "A linear or sequential search is done when you search the item in a list one by one from start to end to find the match for what you are searching for.\n",
        "\n",
        "The condition to be checked is -\n",
        "\n",
        "**CASE : if data = a[i]**   // element is found\n",
        "\n",
        "( where i is the index of element found and data is element to be searched )\n",
        "\n",
        "**BINARY SEARCH :**\n",
        "\n",
        "A binary search is a search in which the middle element is calculated to check whether it is smaller or larger than the element which is to be searched.\n",
        "\n",
        "In binary search, mainly 3 conditions are to be checked - \n",
        "\n",
        "**CASE 1: if data<a[mid] then left = mid+1**\n",
        "\n",
        "**CASE 2: if data>a[mid] then right=mid-1**\n",
        "\n",
        "**CASE 3: if data = a[mid]** // element is found\n",
        "\n",
        "( where mid = (left+right / 2)  and data is element to be searched )"
      ],
      "metadata": {
        "id": "AWyOAxq95A-h"
      }
    }
  ]
}