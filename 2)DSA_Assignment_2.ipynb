{
  "nbformat": 4,
  "nbformat_minor": 0,
  "metadata": {
    "colab": {
      "name": "2)DSA_Assignment_2.ipynb",
      "provenance": [],
      "collapsed_sections": [],
      "include_colab_link": true
    },
    "kernelspec": {
      "name": "python3",
      "display_name": "Python 3"
    },
    "language_info": {
      "name": "python"
    }
  },
  "cells": [
    {
      "cell_type": "markdown",
      "metadata": {
        "id": "view-in-github",
        "colab_type": "text"
      },
      "source": [
        "<a href=\"https://colab.research.google.com/github/saikumarreddykorsapati-source/DSA_Assignments/blob/main/2)DSA_Assignment_2.ipynb\" target=\"_parent\"><img src=\"https://colab.research.google.com/assets/colab-badge.svg\" alt=\"Open In Colab\"/></a>"
      ]
    },
    {
      "cell_type": "markdown",
      "source": [
        "**1) Sol:**\n",
        "\n",
        "In computer science, a linked list is a linear collection of data elements whose order is not given by their physical placement in memory. Instead, each element points to the next. It is a data structure consisting of a collection of nodes which together represent a sequence."
      ],
      "metadata": {
        "id": "AQWjg9Fmraqa"
      }
    },
    {
      "cell_type": "markdown",
      "source": [
        "\n",
        "\n",
        "---\n",
        "\n"
      ],
      "metadata": {
        "id": "NZkZYXYfisf_"
      }
    },
    {
      "cell_type": "markdown",
      "source": [
        "**2) Sol:** \n",
        "\n",
        "There are four key types of linked lists:\n",
        "\n",
        "**i. Singly Linked List**\n",
        "\n",
        "The singly linked list is a data structure that contains two parts, i.e., one is the data part, and the other one is the address part, which contains the address of the next or the successor node. The address part in a node is also known as a pointer.\n",
        "Here, we can only traverse in one direction only, reverse is not possible.\n",
        "\n",
        "**ii. Doubly linked list:**\n",
        "\n",
        "A doubly linked list is a list that has three parts in a single node, includes one data part, a pointer to its previous node, and a pointer to the next node.\n",
        "Or we can say  that we can traverse in both the direction as every node contains an additional prev pointer that points to the previous node.\n",
        "\n",
        "**iii. Circular linked list:**\n",
        "\n",
        "The circular linked list is a list in which the last node connects to the first node, so the link part of the last node holds the first node's address. The circular linked list has no starting and ending node.\n",
        "Or, here we can keep traversing forever and ever until the program crashes as the tail node's next pointer points to the head node instead of a NULL.\n",
        "\n",
        "**iv. Doubly Circular linked List:**\n",
        "\n",
        "Here, the last node is attached to the first node and thus creates a circle. It is a doubly linked list also because each node holds the address of the previous node also.\n",
        "\n",
        "It is a two-way circular linked list which is a more complex kind of Linked List containing a pointer to the succeeding as well as the preceding node in the series.\n"
      ],
      "metadata": {
        "id": "JUfpaffTisgP"
      }
    },
    {
      "cell_type": "markdown",
      "source": [
        "\n",
        "\n",
        "---\n",
        "\n"
      ],
      "metadata": {
        "id": "bPZVaCivitpc"
      }
    },
    {
      "cell_type": "markdown",
      "source": [
        "**3) Sol:** \n",
        "\n",
        "**Linked List Purpose:**\n",
        "\n",
        "* To prevent the collision between the data in the hash map, we use a singly linked list.\n",
        "\n",
        "* Linked Lists are often used because of their efficient insertion and deletion operations. Since Every node in linked list contains a data and address part, hence it becomes easy to locate the element or node's data with help of its address.\n",
        "\n",
        "* Also, to solve and store the values of polynomial algebra, it is sometimes difficult to deal with large integers, hence in this case, we use linked list data structures.\n"
      ],
      "metadata": {
        "id": "jwkLX_J8itpd"
      }
    },
    {
      "cell_type": "markdown",
      "source": [
        "\n",
        "\n",
        "---\n",
        "\n"
      ],
      "metadata": {
        "id": "l_PHTGZMit05"
      }
    },
    {
      "cell_type": "markdown",
      "source": [
        "**4) Sol:** \n",
        "\n",
        "**Advantages of Linked List over Arrays are :**\n",
        "\n",
        "1. Arrays are bound by the limitation of their size as we have to specify the number of elements in the array beforehand. Whereas in the linked list we can add any number of elements.\n",
        "\n",
        "2. Linked list provide an efficient way of storing related data and perform basic operations such as insertion, deletion and updating of information at the cost of extra space required for storing the address.\n",
        "\n",
        "3. There is no need to specify how many number of nodes required so linked list does not waste memory space. We can allocate and de-allocate memory space at runtime.\n",
        "\n"
      ],
      "metadata": {
        "id": "5zvf9Ilsit05"
      }
    },
    {
      "cell_type": "markdown",
      "source": [
        "\n",
        "\n",
        "---\n",
        "\n"
      ],
      "metadata": {
        "id": "bLFSnkSniuEd"
      }
    },
    {
      "cell_type": "markdown",
      "source": [
        "**5) Sol:**\n",
        "\n",
        "A Circular list is a linked list where the last node in the linked list points to the first node in the list. A Circular list does not contain NULL pointers.\n",
        "\n",
        "Circular linked lists are widely used in applications where tasks are to be repeated or in time sharing applications.\n",
        "\n",
        "There are several applications where circular list can be used :\n",
        "\n",
        "* In Implementation of round-robin scheduling in system processes\n",
        "\n",
        "* In Implementation of circular scheduling in high-speed graphics\n",
        "\n",
        "* A good example of an application where circular linked list should be used is a timesharing problem solved by the operating system.\n",
        "\n",
        "* It is used in multiplayer games to give a chance to each player to play the game. where we can easily shuffle back to the first player from the last player quickly, utilizing the circular property."
      ],
      "metadata": {
        "id": "vN6DACPdiuEd"
      }
    },
    {
      "cell_type": "markdown",
      "source": [
        "\n",
        "\n",
        "---\n",
        "\n"
      ],
      "metadata": {
        "id": "dZtGQXmGiuSp"
      }
    },
    {
      "cell_type": "markdown",
      "source": [
        "**6) Sol:**\n",
        "\n",
        "A circular linked is very similar to a singly linked list, the only difference is in the singly linked list the last node of the list point to null but in the circular linked list the last node of the list point to the address of the head. This type of list is known as a circular linked list.\n",
        "\n",
        "The circular linked list has no beginning and no ending and there is no null value present in the next part of any of the nodes.\n",
        "\n",
        "The circular linked list has a dynamic size which means the memory can be allocated when it is required.\n",
        "\n",
        "**Advantage of Circular linked list -**\n",
        "\n",
        "* We can go to any node from any node in the Circular linked list which was not possible in the singly linked list if we reached the last node.\n",
        "\n",
        "**Disadvantage of Circular linked list -**\n",
        "\n",
        "* Not easy to reverse a circular linked list.\n",
        "\n",
        "* Harder to find the end of the list and loop control.\n",
        "\n"
      ],
      "metadata": {
        "id": "Qspk3l1yiuSq"
      }
    }
  ]
}